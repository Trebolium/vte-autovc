{
 "cells": [
  {
   "cell_type": "code",
   "execution_count": 33,
   "metadata": {},
   "outputs": [],
   "source": [
    "# CONVERSION PERFORMS THE ACTUAL VOICE CONVERSION THAT HAPPENS AFTER A MODEL IS TRAINED,\n",
    "# SO WE'VE BEEN PROVIDED WITH A PRETRAINED AUTOVC MODEL TO DEMONSTRATE THIS\n",
    "\n",
    "import os\n",
    "import pickle\n",
    "import torch\n",
    "import numpy as np\n",
    "from math import ceil\n",
    "from model_vc import Generator\n",
    "\n",
    "def pad_seq(x, base=32):\n",
    "    len_out = int(base * ceil(float(x.shape[0])/base))\n",
    "    len_pad = len_out - x.shape[0]\n",
    "    assert len_pad >= 0\n",
    "    return np.pad(x, ((0,len_pad),(0,0)), 'constant'), len_pad\n",
    "\n",
    "device = 'cuda:0'\n",
    "one_hot = True\n",
    "if one_hot==True:\n",
    "    G = Generator(32,20,512,32).eval().to(device)\n",
    "else:\n",
    "    G = Generator(32,256,512,32).eval().to(device)\n",
    "ckpt_iters = 100000\n",
    "model_dir = 'Default1Hot'\n",
    "root = '/homes/bdoc3/my_autovc/model_saves'\n",
    "checkpoint_path = root +'/' +model_dir +'/ckpts/ckpt_' +str(ckpt_iters) +'.pth.tar'\n",
    "\n",
    "subdir_for_wavs = root +'/' +model_dir +'/generated_wavs/' +str(ckpt_iters) +'iters'\n",
    "if os.path.exists(subdir_for_wavs)==False:\n",
    "    os.makedirs(subdir_for_wavs)"
   ]
  },
  {
   "cell_type": "code",
   "execution_count": 34,
   "metadata": {},
   "outputs": [],
   "source": [
    "# pretrained autovc model loaded into G model\n",
    "g_checkpoint = torch.load(checkpoint_path)\n",
    "G.load_state_dict(g_checkpoint['model_state_dict'])\n",
    "g_optimizer = torch.optim.Adam(G.parameters(), 0.0001)\n",
    "g_optimizer.load_state_dict(g_checkpoint['optimizer_state_dict'])"
   ]
  },
  {
   "cell_type": "code",
   "execution_count": 35,
   "metadata": {},
   "outputs": [
    {
     "name": "stdout",
     "output_type": "stream",
     "text": [
      "Training speaker:  p244\n",
      "Training speaker:  p303\n",
      "Training speaker:  p376\n",
      "Training speaker:  p360\n",
      "Training speaker:  p341\n",
      "Training speaker:  p233\n",
      "Training speaker:  p259\n",
      "Training speaker:  p241\n",
      "Training speaker:  p293\n",
      "Training speaker:  p284\n",
      "Training speaker:  p287\n",
      "Training speaker:  p315\n",
      "Training speaker:  p275\n",
      "Training speaker:  p347\n",
      "Training speaker:  p253\n",
      "Training speaker:  p238\n",
      "Training speaker:  p292\n",
      "Training speaker:  p228\n",
      "Speaker in common with pretrained meta data:  p228\n",
      "Training speaker:  p364\n",
      "Training speaker:  p276\n"
     ]
    }
   ],
   "source": [
    "# see which speakers are in both training and pretrained meta data\n",
    "training_meta_data = pickle.load(open(root +'/' +model_dir +'/training_meta_data.pkl', \"rb\"))\n",
    "pretrained_test_data = pickle.load(open('metadata.pkl', \"rb\"))\n",
    "\n",
    "for i, spkr_i in enumerate(training_meta_data):\n",
    "    print('Training speaker: ', spkr_i[0])\n",
    "    for j, spkr_j in enumerate(pretrained_test_data):\n",
    "        if spkr_i[0]==spkr_j[0]:\n",
    "            print('Speaker in common with pretrained meta data: ', spkr_i[0])"
   ]
  },
  {
   "cell_type": "code",
   "execution_count": 36,
   "metadata": {},
   "outputs": [
    {
     "name": "stdout",
     "output_type": "stream",
     "text": [
      "3 p360\n",
      "6 p259\n",
      "5 p233\n",
      "17 p228\n"
     ]
    },
    {
     "data": {
      "text/plain": [
       "[3, 6, 5, 17]"
      ]
     },
     "execution_count": 36,
     "metadata": {},
     "output_type": "execute_result"
    }
   ],
   "source": [
    "# Determine test speakers\n",
    "\n",
    "# p360  19  M    American  New  Jersey\n",
    "# p259  23  M    English    Nottingham\n",
    "# p233  23  F    English    Staffordshire\n",
    "# p228  22  F    English    Southern  England\n",
    "test_speakers = ['p360', 'p259', 'p233']\n",
    "trained_spkr = 'p228'\n",
    "test_speakers.append(trained_spkr)\n",
    "test_speakers\n",
    "test_speaker_idx = []\n",
    "for i, spkr_i in enumerate(test_speakers):\n",
    "    for j, spkr_j in enumerate(training_meta_data):\n",
    "        if spkr_i == spkr_j[0]:\n",
    "            print(j, spkr_i)\n",
    "            test_speaker_idx.append(j)\n",
    "test_speaker_idx"
   ]
  },
  {
   "cell_type": "code",
   "execution_count": 37,
   "metadata": {},
   "outputs": [
    {
     "data": {
      "text/plain": [
       "[array([0., 0., 0., 1., 0., 0., 0., 0., 0., 0., 0., 0., 0., 0., 0., 0., 0.,\n",
       "        0., 0., 0.]),\n",
       " array([0., 0., 0., 0., 0., 0., 1., 0., 0., 0., 0., 0., 0., 0., 0., 0., 0.,\n",
       "        0., 0., 0.]),\n",
       " array([0., 0., 0., 0., 0., 1., 0., 0., 0., 0., 0., 0., 0., 0., 0., 0., 0.,\n",
       "        0., 0., 0.]),\n",
       " array([0., 0., 0., 0., 0., 0., 0., 0., 0., 0., 0., 0., 0., 0., 0., 0., 0.,\n",
       "        1., 0., 0.])]"
      ]
     },
     "execution_count": 37,
     "metadata": {},
     "output_type": "execute_result"
    }
   ],
   "source": [
    "# Determine embeddings\n",
    "num_training_spkrs = len(training_meta_data)\n",
    "if one_hot==True:\n",
    "    one_hot_array = np.eye(num_training_spkrs)[np.arange(num_training_spkrs)]\n",
    "else: throw_error\n",
    "\n",
    "test_spkr_embs = []\n",
    "if one_hot==True:\n",
    "    for spkr_idx in test_speaker_idx:\n",
    "        spkr_emb = one_hot_array[spkr_idx]\n",
    "        test_spkr_embs.append(spkr_emb)\n",
    "else: throw_error\n",
    "test_spkr_embs"
   ]
  },
  {
   "cell_type": "code",
   "execution_count": 38,
   "metadata": {},
   "outputs": [
    {
     "name": "stdout",
     "output_type": "stream",
     "text": [
      "p360\n",
      "[[0.22176196 0.26607546 0.16936074 ... 0.         0.         0.00643862]\n",
      " [0.26866588 0.25565267 0.24472088 ... 0.00692705 0.         0.00536238]\n",
      " [0.27034816 0.23925517 0.24312149 ... 0.01256773 0.         0.        ]\n",
      " ...\n",
      " [0.38358983 0.25486168 0.21697247 ... 0.05973994 0.07492047 0.07607802]\n",
      " [0.3766503  0.28793564 0.24837269 ... 0.04760766 0.0669216  0.07356098]\n",
      " [0.35273877 0.33902618 0.2798415  ... 0.04621968 0.04384156 0.03151707]]\n",
      "p259\n",
      "[[0.32901496 0.30260512 0.27612418 ... 0.03612921 0.         0.        ]\n",
      " [0.33875662 0.29561654 0.28199044 ... 0.01817036 0.         0.        ]\n",
      " [0.29525036 0.25718814 0.18256567 ... 0.         0.         0.        ]\n",
      " ...\n",
      " [0.40179682 0.31568745 0.33146933 ... 0.07257041 0.08366439 0.07716304]\n",
      " [0.31301412 0.26171017 0.30939654 ... 0.0401157  0.05747946 0.0258889 ]\n",
      " [0.29566148 0.29055786 0.33375525 ... 0.05467255 0.0603699  0.        ]]\n",
      "p233\n",
      "[[0.3925055  0.4009754  0.2377748  ... 0.         0.         0.        ]\n",
      " [0.41015998 0.36489874 0.27877155 ... 0.         0.         0.        ]\n",
      " [0.3674736  0.31646448 0.29107448 ... 0.         0.         0.        ]\n",
      " ...\n",
      " [0.36336178 0.27667686 0.3089871  ... 0.0791118  0.09623007 0.09569068]\n",
      " [0.38123405 0.32232866 0.31736234 ... 0.10925201 0.10008285 0.10090666]\n",
      " [0.37893516 0.35205418 0.34091887 ... 0.11454432 0.09665103 0.08292762]]\n",
      "p228\n",
      "[[0.32563537 0.31032786 0.24629052 ... 0.         0.         0.        ]\n",
      " [0.39572892 0.35105023 0.26779714 ... 0.         0.         0.        ]\n",
      " [0.3694941  0.3107996  0.26798567 ... 0.         0.         0.        ]\n",
      " ...\n",
      " [0.40025902 0.3129473  0.28435683 ... 0.00600663 0.01310516 0.        ]\n",
      " [0.4194692  0.31017116 0.2943336  ... 0.         0.00518123 0.        ]\n",
      " [0.3701993  0.2822802  0.2720686  ... 0.         0.00359611 0.        ]]\n"
     ]
    },
    {
     "data": {
      "text/plain": [
       "['/import/c4dm-datasets/VCTK-Corpus-0.92/wav48_silence_trimmed/p360/p360_001_mic1.flac',\n",
       " '/import/c4dm-datasets/VCTK-Corpus-0.92/wav48_silence_trimmed/p259/p259_001_mic1.flac',\n",
       " '/import/c4dm-datasets/VCTK-Corpus-0.92/wav48_silence_trimmed/p233/p233_001_mic1.flac',\n",
       " '/import/c4dm-datasets/VCTK-Corpus-0.92/wav48_silence_trimmed/p228/p228_001_mic1.flac']"
      ]
     },
     "execution_count": 38,
     "metadata": {},
     "output_type": "execute_result"
    }
   ],
   "source": [
    "# make format that can be fed to converter which consists of a list of id, spkr_emb, mel_spec\n",
    "example_name = '001'\n",
    "spec_dir = './spmel'\n",
    "test_spkr_specs = []\n",
    "database_paths = []\n",
    "database_root = '/import/c4dm-datasets/VCTK-Corpus-0.92/wav48_silence_trimmed'\n",
    "for spkr in test_speakers:\n",
    "    print(spkr)\n",
    "    spec_path = spec_dir +'/' +str(spkr) +'/' +str(spkr) +'_' +example_name +'_mic1.npy'\n",
    "    audio_path = database_root +'/' +str(spkr) +'/' +str(spkr) +'_' +example_name +'_mic1.flac'\n",
    "    database_paths.append(audio_path)\n",
    "    spec = np.load(spec_path)\n",
    "    print(spec)\n",
    "    test_spkr_specs.append(spec)\n",
    "database_paths"
   ]
  },
  {
   "cell_type": "code",
   "execution_count": 39,
   "metadata": {},
   "outputs": [
    {
     "name": "stdout",
     "output_type": "stream",
     "text": [
      "('p360', array([0., 0., 0., 1., 0., 0., 0., 0., 0., 0., 0., 0., 0., 0., 0., 0., 0.,\n",
      "       0., 0., 0.]), array([[0.22176196, 0.26607546, 0.16936074, ..., 0.        , 0.        ,\n",
      "        0.00643862],\n",
      "       [0.26866588, 0.25565267, 0.24472088, ..., 0.00692705, 0.        ,\n",
      "        0.00536238],\n",
      "       [0.27034816, 0.23925517, 0.24312149, ..., 0.01256773, 0.        ,\n",
      "        0.        ],\n",
      "       ...,\n",
      "       [0.38358983, 0.25486168, 0.21697247, ..., 0.05973994, 0.07492047,\n",
      "        0.07607802],\n",
      "       [0.3766503 , 0.28793564, 0.24837269, ..., 0.04760766, 0.0669216 ,\n",
      "        0.07356098],\n",
      "       [0.35273877, 0.33902618, 0.2798415 , ..., 0.04621968, 0.04384156,\n",
      "        0.03151707]], dtype=float32))\n",
      "('p259', array([0., 0., 0., 0., 0., 0., 1., 0., 0., 0., 0., 0., 0., 0., 0., 0., 0.,\n",
      "       0., 0., 0.]), array([[0.32901496, 0.30260512, 0.27612418, ..., 0.03612921, 0.        ,\n",
      "        0.        ],\n",
      "       [0.33875662, 0.29561654, 0.28199044, ..., 0.01817036, 0.        ,\n",
      "        0.        ],\n",
      "       [0.29525036, 0.25718814, 0.18256567, ..., 0.        , 0.        ,\n",
      "        0.        ],\n",
      "       ...,\n",
      "       [0.40179682, 0.31568745, 0.33146933, ..., 0.07257041, 0.08366439,\n",
      "        0.07716304],\n",
      "       [0.31301412, 0.26171017, 0.30939654, ..., 0.0401157 , 0.05747946,\n",
      "        0.0258889 ],\n",
      "       [0.29566148, 0.29055786, 0.33375525, ..., 0.05467255, 0.0603699 ,\n",
      "        0.        ]], dtype=float32))\n",
      "('p233', array([0., 0., 0., 0., 0., 1., 0., 0., 0., 0., 0., 0., 0., 0., 0., 0., 0.,\n",
      "       0., 0., 0.]), array([[0.3925055 , 0.4009754 , 0.2377748 , ..., 0.        , 0.        ,\n",
      "        0.        ],\n",
      "       [0.41015998, 0.36489874, 0.27877155, ..., 0.        , 0.        ,\n",
      "        0.        ],\n",
      "       [0.3674736 , 0.31646448, 0.29107448, ..., 0.        , 0.        ,\n",
      "        0.        ],\n",
      "       ...,\n",
      "       [0.36336178, 0.27667686, 0.3089871 , ..., 0.0791118 , 0.09623007,\n",
      "        0.09569068],\n",
      "       [0.38123405, 0.32232866, 0.31736234, ..., 0.10925201, 0.10008285,\n",
      "        0.10090666],\n",
      "       [0.37893516, 0.35205418, 0.34091887, ..., 0.11454432, 0.09665103,\n",
      "        0.08292762]], dtype=float32))\n",
      "('p228', array([0., 0., 0., 0., 0., 0., 0., 0., 0., 0., 0., 0., 0., 0., 0., 0., 0.,\n",
      "       1., 0., 0.]), array([[0.32563537, 0.31032786, 0.24629052, ..., 0.        , 0.        ,\n",
      "        0.        ],\n",
      "       [0.39572892, 0.35105023, 0.26779714, ..., 0.        , 0.        ,\n",
      "        0.        ],\n",
      "       [0.3694941 , 0.3107996 , 0.26798567, ..., 0.        , 0.        ,\n",
      "        0.        ],\n",
      "       ...,\n",
      "       [0.40025902, 0.3129473 , 0.28435683, ..., 0.00600663, 0.01310516,\n",
      "        0.        ],\n",
      "       [0.4194692 , 0.31017116, 0.2943336 , ..., 0.        , 0.00518123,\n",
      "        0.        ],\n",
      "       [0.3701993 , 0.2822802 , 0.2720686 , ..., 0.        , 0.00359611,\n",
      "        0.        ]], dtype=float32))\n"
     ]
    }
   ],
   "source": [
    "training_data_for_synthesis = []\n",
    "\n",
    "for i in range(len(test_speakers)):\n",
    "    spkr_tuple = (test_speakers[i], test_spkr_embs[i], test_spkr_specs[i])\n",
    "    training_data_for_synthesis.append(spkr_tuple)\n",
    "\n",
    "for entry in training_data_for_synthesis:\n",
    "    print(entry)"
   ]
  },
  {
   "cell_type": "code",
   "execution_count": 40,
   "metadata": {},
   "outputs": [
    {
     "name": "stdout",
     "output_type": "stream",
     "text": [
      "done\n"
     ]
    }
   ],
   "source": [
    "# spect_vc collects spectrogram information to be used later for spec2wav conversion via wavnet model\n",
    "spect_vc = []\n",
    "\n",
    "x_org_list = []\n",
    "\n",
    "# each sbmt_i has a speaker ID, a speaker embedding, and a spectrogram\n",
    "for sbmt_i in training_data_for_synthesis:\n",
    "    \n",
    "    # x origin - 80Mel spectrogram\n",
    "    x_org = sbmt_i[2]\n",
    "    x_org_list.append( ('{}'.format(sbmt_i[0]), x_org) )\n",
    "    x_org, len_pad = pad_seq(x_org)\n",
    "    # utterance origin is just padded spec in tensor form\n",
    "    uttr_org = torch.from_numpy(x_org[np.newaxis, :, :]).to(device)\n",
    "    # speaker embedding \n",
    "    emb_org = torch.from_numpy(sbmt_i[1][np.newaxis, :]).to(device)\n",
    "\n",
    "    # for each entry in training_data_for_synthesis, use it as the embedding target and use this in G\n",
    "    for sbmt_j in training_data_for_synthesis:\n",
    "        # embedding target represents S2 in the paper - the embedding provided by a pretrained Speaker Encoder\n",
    "        # I guess this converts each utterance from the data so that it matches the utterance of every speaker\n",
    "        # So if there were 4 utterances with different speakers, then this code will generate 4*4=16 conversions\n",
    "        emb_trg = torch.from_numpy(sbmt_j[1][np.newaxis, :]).to(device)\n",
    "        \n",
    "        # as this is conversion not training, no backprop/gradientCommunication needed here\n",
    "        with torch.no_grad():\n",
    "            # x_identic_psnt = target utterance, produced by the Generator\n",
    "            # Generator is fed an utterance and speaker \n",
    "            if one_hot == True:\n",
    "                emb_org =emb_org.float()\n",
    "                emb_trg =emb_trg.float()\n",
    "            else:\n",
    "                throw_error  \n",
    "            _, x_identic_psnt, _ = G(uttr_org, emb_org, emb_trg)\n",
    "            \n",
    "        if len_pad == 0:\n",
    "            # utterance target is the converted speech\n",
    "            uttr_trg = x_identic_psnt[0, 0, :, :].cpu().numpy()\n",
    "        else:\n",
    "            uttr_trg = x_identic_psnt[0, 0, :-len_pad, :].cpu().numpy()\n",
    "        # utterance is saved in a list, along with source and target ID\n",
    "        spect_vc.append( ('{}x{}'.format(sbmt_i[0], sbmt_j[0]), uttr_trg) )\n",
    "        \n",
    "        \n",
    "with open('results.pkl', 'wb') as handle:\n",
    "    pickle.dump(spect_vc, handle)\n",
    "\n",
    "with open('x_org.pkl', 'wb') as howdy:\n",
    "    pickle.dump(x_org_list, howdy)\n",
    "\n",
    "print('done')"
   ]
  },
  {
   "cell_type": "code",
   "execution_count": 41,
   "metadata": {},
   "outputs": [
    {
     "data": {
      "text/plain": [
       "<All keys matched successfully>"
      ]
     },
     "execution_count": 41,
     "metadata": {},
     "output_type": "execute_result"
    }
   ],
   "source": [
    "# prepare wavenet operations\n",
    "\n",
    "import torch\n",
    "import librosa\n",
    "import soundfile as sf\n",
    "import pickle\n",
    "from synthesis import build_model\n",
    "from synthesis import wavegen\n",
    "\n",
    "\n",
    "device = torch.device(\"cuda:0\")\n",
    "model = build_model().to(device)\n",
    "checkpoint = torch.load(\"checkpoint_step001000000_ema.pth\")\n",
    "model.load_state_dict(checkpoint[\"state_dict\"])"
   ]
  },
  {
   "cell_type": "code",
   "execution_count": 42,
   "metadata": {},
   "outputs": [
    {
     "name": "stderr",
     "output_type": "stream",
     "text": [
      "  0%|          | 6/35072 [00:00<11:12, 52.10it/s]"
     ]
    },
    {
     "name": "stdout",
     "output_type": "stream",
     "text": [
      "p360 /homes/bdoc3/my_autovc/model_saves/Default1Hot/generated_wavs/100000iters/x_origins/p360.wav\n"
     ]
    },
    {
     "name": "stderr",
     "output_type": "stream",
     "text": [
      "100%|██████████| 35072/35072 [09:51<00:00, 59.28it/s]\n",
      "  0%|          | 6/34304 [00:00<10:22, 55.10it/s]"
     ]
    },
    {
     "name": "stdout",
     "output_type": "stream",
     "text": [
      "p259 /homes/bdoc3/my_autovc/model_saves/Default1Hot/generated_wavs/100000iters/x_origins/p259.wav\n"
     ]
    },
    {
     "name": "stderr",
     "output_type": "stream",
     "text": [
      "100%|██████████| 34304/34304 [09:45<00:00, 58.58it/s]\n",
      "  0%|          | 6/41984 [00:00<12:25, 56.28it/s]"
     ]
    },
    {
     "name": "stdout",
     "output_type": "stream",
     "text": [
      "p233 /homes/bdoc3/my_autovc/model_saves/Default1Hot/generated_wavs/100000iters/x_origins/p233.wav\n"
     ]
    },
    {
     "name": "stderr",
     "output_type": "stream",
     "text": [
      "100%|██████████| 41984/41984 [11:43<00:00, 59.71it/s]\n",
      "  0%|          | 7/42752 [00:00<10:18, 69.10it/s]"
     ]
    },
    {
     "name": "stdout",
     "output_type": "stream",
     "text": [
      "p228 /homes/bdoc3/my_autovc/model_saves/Default1Hot/generated_wavs/100000iters/x_origins/p228.wav\n"
     ]
    },
    {
     "name": "stderr",
     "output_type": "stream",
     "text": [
      "100%|██████████| 42752/42752 [12:09<00:00, 58.60it/s]\n"
     ]
    }
   ],
   "source": [
    "# reproduce original data from pre-compuuted (noise-injected) spectrograms\n",
    "torch.cuda.empty_cache()\n",
    "\n",
    "x_orgs = pickle.load(open('x_org.pkl', 'rb'))\n",
    "subdir_for_x_origin = subdir_for_wavs +'/x_origins'\n",
    "if os.path.exists(subdir_for_x_origin)==False:\n",
    "    os.makedirs(subdir_for_x_origin)\n",
    "\n",
    "for x_org in x_orgs:\n",
    "    name = x_org[0]\n",
    "    file_path = subdir_for_x_origin +'/' +name +'.wav'\n",
    "    c = x_org[1]\n",
    "    print(name, file_path)\n",
    "    waveform = wavegen(model, c=c)   \n",
    "#     librosa.output.write_wav(name+'.wav', waveform, sr=16000)\n",
    "    sf.write(file_path, waveform, samplerate=16000)"
   ]
  },
  {
   "cell_type": "code",
   "execution_count": 43,
   "metadata": {},
   "outputs": [
    {
     "data": {
      "text/plain": [
       "[('p360_001',\n",
       "  array([[2.25306970e-01, 2.69609861e-01, 1.72910747e-01, ...,\n",
       "          0.00000000e+00, 0.00000000e+00, 1.00404809e-02],\n",
       "         [2.72209540e-01, 2.59184080e-01, 2.48264116e-01, ...,\n",
       "          1.04524651e-02, 3.56945777e-04, 8.89657316e-03],\n",
       "         [2.73895064e-01, 2.42805972e-01, 2.46666074e-01, ...,\n",
       "          1.61198731e-02, 0.00000000e+00, 0.00000000e+00],\n",
       "         ...,\n",
       "         [3.87137681e-01, 2.58410766e-01, 2.20526963e-01, ...,\n",
       "          6.32682574e-02, 7.84395061e-02, 7.96247342e-02],\n",
       "         [3.80199271e-01, 2.91485559e-01, 2.51932819e-01, ...,\n",
       "          5.11101733e-02, 7.04774190e-02, 7.71211486e-02],\n",
       "         [3.56290588e-01, 3.42577357e-01, 2.83377008e-01, ...,\n",
       "          4.97290658e-02, 4.74290419e-02, 3.50742196e-02]])),\n",
       " ('p259_001',\n",
       "  array([[0.33257237, 0.30615085, 0.27965283, ..., 0.03968096, 0.        ,\n",
       "          0.        ],\n",
       "         [0.34230928, 0.29916488, 0.28552444, ..., 0.02172501, 0.        ,\n",
       "          0.        ],\n",
       "         [0.29879044, 0.26073084, 0.18610705, ..., 0.        , 0.        ,\n",
       "          0.        ],\n",
       "         ...,\n",
       "         [0.40534266, 0.31922658, 0.33500997, ..., 0.07609489, 0.08720691,\n",
       "          0.08072921],\n",
       "         [0.31655784, 0.26525236, 0.31293791, ..., 0.04365381, 0.06100769,\n",
       "          0.02945559],\n",
       "         [0.29920532, 0.29410633, 0.33730565, ..., 0.05832344, 0.06394132,\n",
       "          0.00059709]])),\n",
       " ('p233_001',\n",
       "  array([[0.39605167, 0.4045207 , 0.24133254, ..., 0.        , 0.        ,\n",
       "          0.        ],\n",
       "         [0.41370645, 0.36844395, 0.28231353, ..., 0.        , 0.        ,\n",
       "          0.        ],\n",
       "         [0.37102167, 0.32001226, 0.29461967, ..., 0.        , 0.        ,\n",
       "          0.        ],\n",
       "         ...,\n",
       "         [0.3669107 , 0.28022519, 0.31253693, ..., 0.08264822, 0.09977628,\n",
       "          0.0992431 ],\n",
       "         [0.38477926, 0.32587844, 0.32090968, ..., 0.11278995, 0.10361229,\n",
       "          0.10446751],\n",
       "         [0.38248161, 0.35560316, 0.34446445, ..., 0.11807827, 0.10017469,\n",
       "          0.08645432]])),\n",
       " ('p228_001',\n",
       "  array([[3.29183165e-01, 3.13867909e-01, 2.49840953e-01, ...,\n",
       "          0.00000000e+00, 0.00000000e+00, 0.00000000e+00],\n",
       "         [3.99274180e-01, 3.54593126e-01, 2.71344997e-01, ...,\n",
       "          2.77452679e-04, 0.00000000e+00, 0.00000000e+00],\n",
       "         [3.73039580e-01, 3.14347129e-01, 2.71537727e-01, ...,\n",
       "          0.00000000e+00, 4.32792628e-04, 0.00000000e+00],\n",
       "         ...,\n",
       "         [4.03803480e-01, 3.16494228e-01, 2.87900576e-01, ...,\n",
       "          9.43509638e-03, 1.66038188e-02, 0.00000000e+00],\n",
       "         [4.23011931e-01, 3.13716702e-01, 2.97882065e-01, ...,\n",
       "          9.74753820e-05, 8.61460760e-03, 0.00000000e+00],\n",
       "         [3.73741640e-01, 2.85824503e-01, 2.75626987e-01, ...,\n",
       "          1.15094144e-04, 6.95202720e-03, 0.00000000e+00]]))]"
      ]
     },
     "execution_count": 43,
     "metadata": {},
     "output_type": "execute_result"
    }
   ],
   "source": [
    "import os, pdb, time, shutil, crepe, librosa, pickle, random\n",
    "import numpy as np\n",
    "import soundfile as sf\n",
    "from scipy import signal\n",
    "from scipy.signal import get_window, medfilt\n",
    "from librosa.filters import mel\n",
    "from numpy.random import RandomState\n",
    "\n",
    "def butter_highpass(cutoff, fs, order=5):\n",
    "    nyq = 0.5 * fs\n",
    "    normal_cutoff = cutoff / nyq\n",
    "    b, a = signal.butter(order, normal_cutoff, btype='high', analog=False)\n",
    "    return b, a\n",
    "\n",
    "def pySTFT(x, fft_length=1024, hop_length=256):\n",
    "\n",
    "    x = np.pad(x, int(fft_length//2), mode='reflect')\n",
    "\n",
    "    noverlap = fft_length - hop_length\n",
    "    shape = x.shape[:-1]+((x.shape[-1]-noverlap)//hop_length, fft_length)\n",
    "    strides = x.strides[:-1]+(hop_length*x.strides[-1], x.strides[-1])\n",
    "    result = np.lib.stride_tricks.as_strided(x, shape=shape,\n",
    "                                             strides=strides)\n",
    "\n",
    "    fft_window = get_window('hann', fft_length, fftbins=True)\n",
    "    result = np.fft.rfft(fft_window * result, n=fft_length).T\n",
    "\n",
    "    return np.abs(result)\n",
    "\n",
    "mel_basis = mel(16000, 1024, fmin=90, fmax=7600, n_mels=80).T\n",
    "min_level = np.exp(-100 / 20 * np.log(10))\n",
    "b, a = butter_highpass(30, 16000, order=5)\n",
    "\n",
    "database_paths\n",
    "origins_no_augs = []\n",
    "\n",
    "for file_idx, file_path in enumerate(database_paths):\n",
    "    # ensure that only mic1 files are processed\n",
    "    if file_path.endswith('mic1.flac'):\n",
    "        # Read audio file\n",
    "        audio, sr = sf.read(file_path)\n",
    "        # Remove drifting noise\n",
    "        y = signal.filtfilt(b, a, audio)\n",
    "#             # Ddd a little random noise for model roubstness\n",
    "#             wav = y * 0.96 + (prng.rand(y.shape[0])-0.5)*1e-06\n",
    "        # resample 48kHz to 16kHz\n",
    "        resampled_wav = librosa.resample(y, sr, 16000)\n",
    "        # pdb.set_trace()\n",
    "        # compute pitch contour\n",
    "#             timestamp, frequency_prediction, confidence, activation = crepe.predict(resampled_wav, 16000, viterbi=False, step_size=16)\n",
    "#             # preprocess pitch contour\n",
    "#             one_hot_preprocessed_pitch_conotours = pitch_preprocessing(frequency_prediction, confidence)\n",
    "        # Compute spect\n",
    "        D = pySTFT(resampled_wav).T\n",
    "        # Convert to mel and normalize\n",
    "        D_mel = np.dot(D, mel_basis)\n",
    "        #Author mentioned min level -100 and ref level 16 dB in https://github.com/auspicious3000/autovc/issues/4\n",
    "        D_db = 20 * np.log10(np.maximum(min_level, D_mel)) - 16\n",
    "        S = np.clip((D_db + 100) / 100, 0, 1)\n",
    "        # save spect    \n",
    "        origins_no_augs.append((file_path[-18:-10], S))\n",
    "origins_no_augs"
   ]
  },
  {
   "cell_type": "code",
   "execution_count": 44,
   "metadata": {},
   "outputs": [
    {
     "name": "stderr",
     "output_type": "stream",
     "text": [
      "  0%|          | 7/35072 [00:00<08:37, 67.78it/s]"
     ]
    },
    {
     "name": "stdout",
     "output_type": "stream",
     "text": [
      "p360_001\n"
     ]
    },
    {
     "name": "stderr",
     "output_type": "stream",
     "text": [
      "100%|██████████| 35072/35072 [10:00<00:00, 58.41it/s]\n",
      "  0%|          | 6/34304 [00:00<10:04, 56.71it/s]"
     ]
    },
    {
     "name": "stdout",
     "output_type": "stream",
     "text": [
      "p259_001\n"
     ]
    },
    {
     "name": "stderr",
     "output_type": "stream",
     "text": [
      "100%|██████████| 34304/34304 [09:59<00:00, 57.19it/s]\n",
      "  0%|          | 8/41984 [00:00<09:26, 74.12it/s]"
     ]
    },
    {
     "name": "stdout",
     "output_type": "stream",
     "text": [
      "p233_001\n"
     ]
    },
    {
     "name": "stderr",
     "output_type": "stream",
     "text": [
      "100%|██████████| 41984/41984 [11:57<00:00, 58.55it/s]\n",
      "  0%|          | 7/42752 [00:00<11:16, 63.22it/s]"
     ]
    },
    {
     "name": "stdout",
     "output_type": "stream",
     "text": [
      "p228_001\n"
     ]
    },
    {
     "name": "stderr",
     "output_type": "stream",
     "text": [
      "100%|██████████| 42752/42752 [11:31<00:00, 61.78it/s]\n"
     ]
    }
   ],
   "source": [
    "torch.cuda.empty_cache()\n",
    "\n",
    "subdir_for_x_origins_no_augs = subdir_for_wavs +'/x_origins_no_augs'\n",
    "if os.path.exists(subdir_for_x_origins_no_augs)==False:\n",
    "    os.makedirs(subdir_for_x_origins_no_augs)\n",
    "\n",
    "for x_org in origins_no_augs:\n",
    "    name = x_org[0]\n",
    "    c = x_org[1]\n",
    "    print(name)\n",
    "    waveform = wavegen(model, c=c)   \n",
    "#     librosa.output.write_wav(name+'.wav', waveform, sr=16000)\n",
    "    sf.write(subdir_for_x_origins_no_augs +'/' +name +'.wav', waveform, samplerate=16000)"
   ]
  },
  {
   "cell_type": "code",
   "execution_count": null,
   "metadata": {},
   "outputs": [],
   "source": []
  }
 ],
 "metadata": {
  "kernelspec": {
   "display_name": "venvAutoVc",
   "language": "python",
   "name": "venvautovc"
  },
  "language_info": {
   "codemirror_mode": {
    "name": "ipython",
    "version": 3
   },
   "file_extension": ".py",
   "mimetype": "text/x-python",
   "name": "python",
   "nbconvert_exporter": "python",
   "pygments_lexer": "ipython3",
   "version": "3.7.7"
  }
 },
 "nbformat": 4,
 "nbformat_minor": 4
}
