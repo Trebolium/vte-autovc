{
 "cells": [
  {
   "cell_type": "code",
   "execution_count": 1,
   "metadata": {},
   "outputs": [],
   "source": [
    "# CONVERSION PERFORMS THE ACTUAL VOICE CONVERSION THAT HAPPENS AFTER A MODEL IS TRAINED,\n",
    "# SO WE'VE BEEN PROVIDED WITH A PRETRAINED AUTOVC MODEL TO DEMONSTRATE THIS\n",
    "\n",
    "import os\n",
    "import pickle\n",
    "import torch\n",
    "import numpy as np\n",
    "from math import ceil\n",
    "from model_vc import Generator\n",
    "\n",
    "def pad_seq(x, base=32):\n",
    "    len_out = int(base * ceil(float(x.shape[0])/base))\n",
    "    len_pad = len_out - x.shape[0]\n",
    "    assert len_pad >= 0\n",
    "    return np.pad(x, ((0,len_pad),(0,0)), 'constant'), len_pad\n",
    "\n",
    "device = 'cuda:0'\n",
    "num_trained_spkrs = 20\n",
    "freq = 16\n",
    "bottle_neck = 64\n",
    "one_hot = True\n",
    "ckpt_iters = 100000\n",
    "model_dir = '1Hot64Neck16FreqL1Loss'\n",
    "\n",
    "root = '/homes/bdoc3/my_autovc/model_saves'\n",
    "checkpoint_path = root +'/' +model_dir +'/ckpts/ckpt_' +str(ckpt_iters) +'.pth.tar'\n",
    "\n",
    "subdir_for_wavs = root +'/' +model_dir +'/generated_wavs/' +str(ckpt_iters) +'iters'\n",
    "if os.path.exists(subdir_for_wavs)==False:\n",
    "    os.makedirs(subdir_for_wavs)\n",
    "    \n",
    "if one_hot==True:\n",
    "    G = Generator(bottle_neck, num_trained_spkrs, 512, freq).eval().to(device)\n",
    "else:\n",
    "    G = Generator(bottle_neck, 256, 512, freq).eval().to(device)"
   ]
  },
  {
   "cell_type": "code",
   "execution_count": 2,
   "metadata": {},
   "outputs": [],
   "source": [
    "# pretrained autovc model loaded into G model\n",
    "g_checkpoint = torch.load(checkpoint_path)\n",
    "G.load_state_dict(g_checkpoint['model_state_dict'])\n",
    "g_optimizer = torch.optim.Adam(G.parameters(), 0.0001)\n",
    "g_optimizer.load_state_dict(g_checkpoint['optimizer_state_dict'])\n",
    "\n",
    "# for state in g_optimizer.state.values():\n",
    "#     for k, v in state.items():\n",
    "#         if isinstance(v, torch.Tensor):\n",
    "#             state[k] = v.cuda()"
   ]
  },
  {
   "cell_type": "code",
   "execution_count": 3,
   "metadata": {},
   "outputs": [
    {
     "name": "stdout",
     "output_type": "stream",
     "text": [
      "Training speaker:  p244\n",
      "Training speaker:  p303\n",
      "Training speaker:  p376\n",
      "Training speaker:  p360\n",
      "Training speaker:  p341\n",
      "Training speaker:  p233\n",
      "Training speaker:  p259\n",
      "Training speaker:  p241\n",
      "Training speaker:  p293\n",
      "Training speaker:  p284\n",
      "Training speaker:  p287\n",
      "Training speaker:  p315\n",
      "Training speaker:  p275\n",
      "Training speaker:  p347\n",
      "Training speaker:  p253\n",
      "Training speaker:  p238\n",
      "Training speaker:  p292\n",
      "Training speaker:  p228\n",
      "Speaker in common with pretrained meta data:  p228\n",
      "Training speaker:  p364\n",
      "Training speaker:  p276\n"
     ]
    }
   ],
   "source": [
    "# see which speakers are in both training and pretrained meta data\n",
    "training_meta_data = pickle.load(open(root +'/' +model_dir +'/training_meta_data.pkl', \"rb\"))\n",
    "pretrained_test_data = pickle.load(open('metadata.pkl', \"rb\"))\n",
    "all_meta_data = pickle.load(open('all_meta_data.pkl', \"rb\"))\n",
    "\n",
    "for i, spkr_i in enumerate(training_meta_data):\n",
    "    print('Training speaker: ', spkr_i[0])\n",
    "    for j, spkr_j in enumerate(pretrained_test_data):\n",
    "        if spkr_i[0]==spkr_j[0]:\n",
    "            print('Speaker in common with pretrained meta data: ', spkr_i[0])"
   ]
  },
  {
   "cell_type": "code",
   "execution_count": 4,
   "metadata": {},
   "outputs": [
    {
     "name": "stdout",
     "output_type": "stream",
     "text": [
      "3 p360\n",
      "6 p259\n",
      "5 p233\n",
      "17 p228\n"
     ]
    }
   ],
   "source": [
    "# Choose what speakers you want to use as test, and then find their corresponding \n",
    "\n",
    "# p360  19  M    American  New  Jersey\n",
    "# p259  23  M    English    Nottingham\n",
    "# p233  23  F    English    Staffordshire\n",
    "# p228  22  F    English    Southern  England\n",
    "test_speakers = ['p360', 'p259', 'p233']\n",
    "trained_spkr = 'p228'\n",
    "test_speakers.append(trained_spkr)\n",
    "test_speakers\n",
    "if one_hot==True:\n",
    "    test_speaker_idx = []\n",
    "    for i, spkr_i in enumerate(test_speakers):\n",
    "        for j, spkr_j in enumerate(training_meta_data):\n",
    "            if spkr_i == spkr_j[0]:\n",
    "                print(j, spkr_i)\n",
    "                test_speaker_idx.append(j)"
   ]
  },
  {
   "cell_type": "code",
   "execution_count": null,
   "metadata": {},
   "outputs": [],
   "source": []
  },
  {
   "cell_type": "code",
   "execution_count": 5,
   "metadata": {},
   "outputs": [],
   "source": [
    "# Determine embeddings\n",
    "num_training_spkrs = len(training_meta_data)\n",
    "if one_hot==True:\n",
    "    one_hot_array = np.eye(num_training_spkrs)[np.arange(num_training_spkrs)]\n",
    "\n",
    "test_spkr_embs = []\n",
    "if one_hot==True:\n",
    "    for spkr_idx in test_speaker_idx:\n",
    "        spkr_emb = one_hot_array[spkr_idx]\n",
    "        test_spkr_embs.append(spkr_emb)\n",
    "else:\n",
    "    for spkr_id_i in test_speakers:\n",
    "        for spkr_data in all_meta_data:\n",
    "            if spkr_id_i == spkr_data[0]:\n",
    "                spkr_emb = spkr_data[1]\n",
    "                test_spkr_embs.append(spkr_emb)"
   ]
  },
  {
   "cell_type": "code",
   "execution_count": 6,
   "metadata": {},
   "outputs": [
    {
     "data": {
      "text/plain": [
       "['/import/c4dm-datasets/VCTK-Corpus-0.92/wav48_silence_trimmed/p360/p360_001_mic1.flac',\n",
       " '/import/c4dm-datasets/VCTK-Corpus-0.92/wav48_silence_trimmed/p259/p259_001_mic1.flac',\n",
       " '/import/c4dm-datasets/VCTK-Corpus-0.92/wav48_silence_trimmed/p233/p233_001_mic1.flac',\n",
       " '/import/c4dm-datasets/VCTK-Corpus-0.92/wav48_silence_trimmed/p228/p228_001_mic1.flac']"
      ]
     },
     "execution_count": 6,
     "metadata": {},
     "output_type": "execute_result"
    }
   ],
   "source": [
    "# get paths for determined uttrs\n",
    "example_name = '001'\n",
    "spec_dir = './spmel'\n",
    "test_spkr_specs = []\n",
    "database_paths = []\n",
    "database_root = '/import/c4dm-datasets/VCTK-Corpus-0.92/wav48_silence_trimmed'\n",
    "for spkr in test_speakers:\n",
    "    spec_path = spec_dir +'/' +str(spkr) +'/' +str(spkr) +'_' +example_name +'_mic1.npy'\n",
    "    audio_path = database_root +'/' +str(spkr) +'/' +str(spkr) +'_' +example_name +'_mic1.flac'\n",
    "    database_paths.append(audio_path)\n",
    "    spec = np.load(spec_path)\n",
    "    test_spkr_specs.append(spec)\n",
    "database_paths"
   ]
  },
  {
   "cell_type": "code",
   "execution_count": 7,
   "metadata": {},
   "outputs": [],
   "source": [
    "# make format that can be fed to converter which consists of a list of id, spkr_emb, mel_spec\n",
    "training_data_for_synthesis = []\n",
    "\n",
    "for i in range(len(test_speakers)):\n",
    "    spkr_tuple = (test_speakers[i], test_spkr_embs[i], test_spkr_specs[i])\n",
    "    training_data_for_synthesis.append(spkr_tuple)"
   ]
  },
  {
   "cell_type": "code",
   "execution_count": 8,
   "metadata": {},
   "outputs": [
    {
     "name": "stdout",
     "output_type": "stream",
     "text": [
      "done\n"
     ]
    }
   ],
   "source": [
    "# spect_vc collects spectrogram information to be used later for spec2wav conversion via wavnet model\n",
    "spect_vc = []\n",
    "\n",
    "x_org_list = []\n",
    "\n",
    "# each sbmt_i has a speaker ID, a speaker embedding, and a spectrogram\n",
    "for sbmt_i in training_data_for_synthesis:\n",
    "    \n",
    "    # x origin - 80Mel spectrogram\n",
    "    x_org = sbmt_i[2]\n",
    "    x_org_list.append( ('{}'.format(sbmt_i[0]), x_org) )\n",
    "    x_org, len_pad = pad_seq(x_org)\n",
    "    # utterance origin is just padded spec in tensor form\n",
    "    uttr_org = torch.from_numpy(x_org[np.newaxis, :, :]).to(device)\n",
    "    # speaker embedding \n",
    "    emb_org = torch.from_numpy(sbmt_i[1][np.newaxis, :]).to(device)\n",
    "\n",
    "    # for each entry in training_data_for_synthesis, use it as the embedding target and use this in G\n",
    "    for sbmt_j in training_data_for_synthesis:\n",
    "        # embedding target represents S2 in the paper - the embedding provided by a pretrained Speaker Encoder\n",
    "        # I guess this converts each utterance from the data so that it matches the utterance of every speaker\n",
    "        # So if there were 4 utterances with different speakers, then this code will generate 4*4=16 conversions\n",
    "        emb_trg = torch.from_numpy(sbmt_j[1][np.newaxis, :]).to(device)\n",
    "        \n",
    "        # as this is conversion not training, no backprop/gradientCommunication needed here\n",
    "        with torch.no_grad():\n",
    "            # x_identic_psnt = target utterance, produced by the Generator\n",
    "            # Generator is fed an utterance and speaker \n",
    "            if one_hot == True:\n",
    "                emb_org =emb_org.float()\n",
    "                emb_trg =emb_trg.float() \n",
    "            _, x_identic_psnt, _ = G(uttr_org, emb_org, emb_trg)\n",
    "            \n",
    "        if len_pad == 0:\n",
    "            # utterance target is the converted speech\n",
    "            uttr_trg = x_identic_psnt[0, 0, :, :].cpu().numpy()\n",
    "        else:\n",
    "            uttr_trg = x_identic_psnt[0, 0, :-len_pad, :].cpu().numpy()\n",
    "        # utterance is saved in a list, along with source and target ID\n",
    "        spect_vc.append( ('{}x{}'.format(sbmt_i[0], sbmt_j[0]), uttr_trg) )\n",
    "        \n",
    "        \n",
    "with open('results.pkl', 'wb') as handle:\n",
    "    pickle.dump(spect_vc, handle)\n",
    "\n",
    "with open('x_org.pkl', 'wb') as howdy:\n",
    "    pickle.dump(x_org_list, howdy)\n",
    "\n",
    "print('done')"
   ]
  },
  {
   "cell_type": "code",
   "execution_count": 9,
   "metadata": {},
   "outputs": [
    {
     "data": {
      "text/plain": [
       "<All keys matched successfully>"
      ]
     },
     "execution_count": 9,
     "metadata": {},
     "output_type": "execute_result"
    }
   ],
   "source": [
    "# prepare wavenet operations\n",
    "torch.cuda.empty_cache()\n",
    "\n",
    "import torch\n",
    "import librosa\n",
    "import soundfile as sf\n",
    "import pickle\n",
    "from synthesis import build_model\n",
    "from synthesis import wavegen\n",
    "\n",
    "\n",
    "device = torch.device(\"cuda:0\")\n",
    "model = build_model().to(device)\n",
    "checkpoint = torch.load(\"checkpoint_step001000000_ema.pth\")\n",
    "model.load_state_dict(checkpoint[\"state_dict\"])"
   ]
  },
  {
   "cell_type": "code",
   "execution_count": null,
   "metadata": {
    "scrolled": true
   },
   "outputs": [
    {
     "name": "stderr",
     "output_type": "stream",
     "text": [
      "  0%|          | 6/35072 [00:00<10:27, 55.91it/s]"
     ]
    },
    {
     "name": "stdout",
     "output_type": "stream",
     "text": [
      "p360xp360\n"
     ]
    },
    {
     "name": "stderr",
     "output_type": "stream",
     "text": [
      "100%|██████████| 35072/35072 [09:21<00:00, 62.49it/s]\n",
      "  0%|          | 6/35072 [00:00<10:19, 56.59it/s]"
     ]
    },
    {
     "name": "stdout",
     "output_type": "stream",
     "text": [
      "p360xp259\n"
     ]
    },
    {
     "name": "stderr",
     "output_type": "stream",
     "text": [
      " 19%|█▉        | 6622/35072 [01:44<08:34, 55.28it/s]"
     ]
    }
   ],
   "source": [
    "# reproduce original data from pre-compuuted (noise-injected) spectrograms\n",
    "\n",
    "results = pickle.load(open('results.pkl', 'rb'))\n",
    "subdir_for_conversion = subdir_for_wavs +'/conversions'\n",
    "if os.path.exists(subdir_for_conversion)==False:\n",
    "    os.makedirs(subdir_for_conversion)\n",
    "\n",
    "for result in results:\n",
    "    name = result[0]\n",
    "    c = result[1]\n",
    "    print(name)\n",
    "    waveform = wavegen(model, c=c)   \n",
    "#     librosa.output.write_wav(name+'.wav', waveform, sr=16000)\n",
    "    sf.write(subdir_for_conversion +'/' +name +'.wav', waveform, samplerate=16000)"
   ]
  },
  {
   "cell_type": "code",
   "execution_count": null,
   "metadata": {},
   "outputs": [],
   "source": []
  }
 ],
 "metadata": {
  "kernelspec": {
   "display_name": "venvAutoVc",
   "language": "python",
   "name": "venvautovc"
  },
  "language_info": {
   "codemirror_mode": {
    "name": "ipython",
    "version": 3
   },
   "file_extension": ".py",
   "mimetype": "text/x-python",
   "name": "python",
   "nbconvert_exporter": "python",
   "pygments_lexer": "ipython3",
   "version": "3.7.7"
  }
 },
 "nbformat": 4,
 "nbformat_minor": 4
}
