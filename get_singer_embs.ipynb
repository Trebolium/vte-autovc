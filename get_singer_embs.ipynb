{
 "cells": [
  {
   "cell_type": "code",
   "execution_count": 2,
   "metadata": {},
   "outputs": [],
   "source": [
    "import pickle, pdb, os, random\n",
    "from model_bl import D_VECTOR\n",
    "from collections import OrderedDict\n",
    "import numpy as np\n",
    "import torch\n",
    "\n",
    "# C is the speaker encoder. The config values match with the paper\n",
    "C = D_VECTOR(dim_input=80, dim_cell=768, dim_emb=256).eval().cuda()\n",
    "# Speaker encoder checkpoint things. Load up the pretrained checkpoint info\n",
    "c_checkpoint = torch.load('/homes/bdoc3/my_data/autovc_data/3000000-BL.ckpt')\n",
    "new_state_dict = OrderedDict()\n",
    "for key, val in c_checkpoint['model_b'].items():\n",
    "    new_key = key[7:]\n",
    "    new_state_dict[new_key] = val \n",
    "C.load_state_dict(new_state_dict)\n",
    "num_uttrs = 10\n",
    "len_crop = 192 \n",
    "singer_names = ['m1_','m2_','m3_','m4_','m5_','m6_','m7_','m8_','m9_','m10_','m11_','f1_','f2_','f3_','f4_','f5_','f6_','f7_','f8_','f9_']\n",
    "# Directory containing mel-spectrograms"
   ]
  },
  {
   "cell_type": "code",
   "execution_count": 3,
   "metadata": {},
   "outputs": [
    {
     "name": "stdout",
     "output_type": "stream",
     "text": [
      "Found directory: /homes/bdoc3/my_data/spmel_data/vocalSet_subset_unnormed\n"
     ]
    },
    {
     "name": "stderr",
     "output_type": "stream",
     "text": [
      "/homes/bdoc3/.local/lib/python3.7/site-packages/numpy/core/fromnumeric.py:3373: RuntimeWarning: Mean of empty slice.\n",
      "  out=out, **kwargs)\n",
      "/homes/bdoc3/.local/lib/python3.7/site-packages/numpy/core/_methods.py:170: RuntimeWarning: invalid value encountered in double_scalars\n",
      "  ret = ret.dtype.type(ret / rcount)\n"
     ]
    }
   ],
   "source": [
    "rootDir = '/homes/bdoc3/my_data/spmel_data/vocalSet_subset_unnormed'\n",
    "dirName, subdirList, fileList = next(os.walk(rootDir))\n",
    "print('Found directory: %s' % dirName)\n",
    "\n",
    "# speakers contains list of utterance paths/embeddings\n",
    "speakers = []\n",
    "# each speaker is a folder path to that speaker\n",
    "list_of_embs = [[] for i in range(len(singer_names))]\n",
    "avg_embs = []\n",
    "for s_idx in range(len(singer_names)):\n",
    "    single_singer_file_list = [i for i in fileList if i.startswith(singer_names[s_idx])] \n",
    "    for file_name in sorted(single_singer_file_list):\n",
    "        print('Processing: %s' % file_name)\n",
    "        tmp = np.load(os.path.join(dirName, file_name))\n",
    "        if tmp.shape[0] < len_crop:\n",
    "            continue\n",
    "        centered_spmel = tmp[np.newaxis, (tmp.shape[0]//2)-(len_crop//2):(tmp.shape[0]//2)+(len_crop//2)]\n",
    "        melsp = torch.from_numpy(centered_spmel).cuda()\n",
    "        # put mels through the speaker encoder to get their embeddings\n",
    "        # pdb.set_trace()\n",
    "        emb = C(melsp)\n",
    "        list_of_embs[s_idx].append(emb.detach().squeeze().cpu().numpy())    \n",
    "    # Get mean of embs across rows, and add this to utterances list\n",
    "    avg_embs.append((singer_names[s_idx], np.mean(list_of_embs[s_idx], axis=0)))"
   ]
  },
  {
   "cell_type": "code",
   "execution_count": 5,
   "metadata": {},
   "outputs": [],
   "source": [
    "import math\n",
    "\n",
    "def tensor_to_matrix(array):\n",
    "    sqr = int(math.sqrt(array.shape[0]))\n",
    "    embs_mat = array.reshape((sqr,sqr))\n",
    "    return embs_mat"
   ]
  },
  {
   "cell_type": "code",
   "execution_count": 6,
   "metadata": {},
   "outputs": [
    {
     "name": "stderr",
     "output_type": "stream",
     "text": [
      "/homes/bdoc3/.local/lib/python3.7/site-packages/numpy/core/fromnumeric.py:3373: RuntimeWarning: Mean of empty slice.\n",
      "  out=out, **kwargs)\n",
      "/homes/bdoc3/.local/lib/python3.7/site-packages/numpy/core/_methods.py:170: RuntimeWarning: invalid value encountered in double_scalars\n",
      "  ret = ret.dtype.type(ret / rcount)\n"
     ]
    },
    {
     "ename": "IndexError",
     "evalue": "tuple index out of range",
     "output_type": "error",
     "traceback": [
      "\u001b[0;31m---------------------------------------------------------------------------\u001b[0m",
      "\u001b[0;31mIndexError\u001b[0m                                Traceback (most recent call last)",
      "\u001b[0;32m<ipython-input-6-28e4733fa40d>\u001b[0m in \u001b[0;36m<module>\u001b[0;34m\u001b[0m\n\u001b[1;32m     11\u001b[0m \u001b[0;32mfor\u001b[0m \u001b[0mi\u001b[0m \u001b[0;32min\u001b[0m \u001b[0mrange\u001b[0m\u001b[0;34m(\u001b[0m\u001b[0mlen\u001b[0m\u001b[0;34m(\u001b[0m\u001b[0mavg_emb_arr\u001b[0m\u001b[0;34m)\u001b[0m\u001b[0;34m)\u001b[0m\u001b[0;34m:\u001b[0m\u001b[0;34m\u001b[0m\u001b[0;34m\u001b[0m\u001b[0m\n\u001b[1;32m     12\u001b[0m     \u001b[0msqr_avg_emb\u001b[0m \u001b[0;34m=\u001b[0m \u001b[0mtensor_to_matrix\u001b[0m\u001b[0;34m(\u001b[0m\u001b[0mavg_emb_arr\u001b[0m\u001b[0;34m[\u001b[0m\u001b[0mi\u001b[0m\u001b[0;34m]\u001b[0m\u001b[0;34m)\u001b[0m\u001b[0;34m\u001b[0m\u001b[0;34m\u001b[0m\u001b[0m\n\u001b[0;32m---> 13\u001b[0;31m     \u001b[0mother_sqr_avg_emb\u001b[0m \u001b[0;34m=\u001b[0m \u001b[0mtensor_to_matrix\u001b[0m\u001b[0;34m(\u001b[0m\u001b[0mavg_embs\u001b[0m\u001b[0;34m[\u001b[0m\u001b[0mi\u001b[0m\u001b[0;34m]\u001b[0m\u001b[0;34m[\u001b[0m\u001b[0;36m1\u001b[0m\u001b[0;34m]\u001b[0m\u001b[0;34m)\u001b[0m\u001b[0;34m\u001b[0m\u001b[0;34m\u001b[0m\u001b[0m\n\u001b[0m\u001b[1;32m     14\u001b[0m     \u001b[0mplt\u001b[0m\u001b[0;34m.\u001b[0m\u001b[0mfigure\u001b[0m\u001b[0;34m(\u001b[0m\u001b[0;34m)\u001b[0m\u001b[0;34m\u001b[0m\u001b[0;34m\u001b[0m\u001b[0m\n\u001b[1;32m     15\u001b[0m     \u001b[0mplt\u001b[0m\u001b[0;34m.\u001b[0m\u001b[0msubplot\u001b[0m\u001b[0;34m(\u001b[0m\u001b[0;36m1\u001b[0m\u001b[0;34m,\u001b[0m\u001b[0;36m2\u001b[0m\u001b[0;34m,\u001b[0m\u001b[0;36m1\u001b[0m\u001b[0;34m)\u001b[0m\u001b[0;34m\u001b[0m\u001b[0;34m\u001b[0m\u001b[0m\n",
      "\u001b[0;32m<ipython-input-5-b3155a10e225>\u001b[0m in \u001b[0;36mtensor_to_matrix\u001b[0;34m(array)\u001b[0m\n\u001b[1;32m      2\u001b[0m \u001b[0;34m\u001b[0m\u001b[0m\n\u001b[1;32m      3\u001b[0m \u001b[0;32mdef\u001b[0m \u001b[0mtensor_to_matrix\u001b[0m\u001b[0;34m(\u001b[0m\u001b[0marray\u001b[0m\u001b[0;34m)\u001b[0m\u001b[0;34m:\u001b[0m\u001b[0;34m\u001b[0m\u001b[0;34m\u001b[0m\u001b[0m\n\u001b[0;32m----> 4\u001b[0;31m     \u001b[0msqr\u001b[0m \u001b[0;34m=\u001b[0m \u001b[0mint\u001b[0m\u001b[0;34m(\u001b[0m\u001b[0mmath\u001b[0m\u001b[0;34m.\u001b[0m\u001b[0msqrt\u001b[0m\u001b[0;34m(\u001b[0m\u001b[0marray\u001b[0m\u001b[0;34m.\u001b[0m\u001b[0mshape\u001b[0m\u001b[0;34m[\u001b[0m\u001b[0;36m0\u001b[0m\u001b[0;34m]\u001b[0m\u001b[0;34m)\u001b[0m\u001b[0;34m)\u001b[0m\u001b[0;34m\u001b[0m\u001b[0;34m\u001b[0m\u001b[0m\n\u001b[0m\u001b[1;32m      5\u001b[0m     \u001b[0membs_mat\u001b[0m \u001b[0;34m=\u001b[0m \u001b[0marray\u001b[0m\u001b[0;34m.\u001b[0m\u001b[0mreshape\u001b[0m\u001b[0;34m(\u001b[0m\u001b[0;34m(\u001b[0m\u001b[0msqr\u001b[0m\u001b[0;34m,\u001b[0m\u001b[0msqr\u001b[0m\u001b[0;34m)\u001b[0m\u001b[0;34m)\u001b[0m\u001b[0;34m\u001b[0m\u001b[0;34m\u001b[0m\u001b[0m\n\u001b[1;32m      6\u001b[0m     \u001b[0;32mreturn\u001b[0m \u001b[0membs_mat\u001b[0m\u001b[0;34m\u001b[0m\u001b[0;34m\u001b[0m\u001b[0m\n",
      "\u001b[0;31mIndexError\u001b[0m: tuple index out of range"
     ]
    }
   ],
   "source": [
    "import matplotlib.pyplot as plt\n",
    "\n",
    "avg_emb_arr=None\n",
    "for i in range(len(list_of_embs)):\n",
    "    avg_emb = np.mean(np.asarray(list_of_embs[i]), axis=0)\n",
    "    try:\n",
    "        avg_emb_arr = np.vstack((avg_emb_arr, avg_emb))\n",
    "    except:\n",
    "        avg_emb_arr = avg_emb\n",
    "\n",
    "for i in range(len(avg_emb_arr)):\n",
    "    sqr_avg_emb = tensor_to_matrix(avg_emb_arr[i])\n",
    "    other_sqr_avg_emb = tensor_to_matrix(avg_embs[i][1])\n",
    "    plt.figure()\n",
    "    plt.subplot(1,2,1)\n",
    "    plt.imshow(sqr_avg_emb)\n",
    "    plt.subplot(1,2,2)\n",
    "    plt.imshow(other_sqr_avg_emb)"
   ]
  },
  {
   "cell_type": "code",
   "execution_count": 11,
   "metadata": {},
   "outputs": [
    {
     "data": {
      "text/plain": [
       "(20, 20, 20)"
      ]
     },
     "execution_count": 11,
     "metadata": {},
     "output_type": "execute_result"
    }
   ],
   "source": [
    "len(avg_emb_arr), len(avg_embs), len(list_of_embs)"
   ]
  },
  {
   "cell_type": "code",
   "execution_count": 16,
   "metadata": {},
   "outputs": [],
   "source": [
    "from sklearn.cluster import KMeans\n",
    "\n",
    "def sse_view(array, k_max):\n",
    "    # set up k_means clustering\n",
    "    k_range = range(1, k_max)\n",
    "    sum_squared_error = []\n",
    "    for k_dim in k_range:    \n",
    "        km = KMeans(n_clusters=k_dim)\n",
    "        km.fit_predict(flattened_embs_arr)\n",
    "    #    print(km.cluster_centers_.shape, km.cluster_centers_) \n",
    "        sum_squared_error.append(km.inertia_)\n",
    "    plt.figure()\n",
    "    plt.title('ert')\n",
    "    plt.plot(k_range, sum_squared_error)"
   ]
  },
  {
   "cell_type": "code",
   "execution_count": 18,
   "metadata": {},
   "outputs": [
    {
     "data": {
      "image/png": "[encoded data removed]",
      "text/plain": [
       "<Figure size 432x288 with 1 Axes>"
      ]
     },
     "metadata": {
      "needs_background": "light"
     },
     "output_type": "display_data"
    }
   ],
   "source": [
    "flattened_embs_arr = np.asarray([item for sublist in list_of_embs for item in sublist])\n",
    "sse_view(flattened_embs_arr, 30)"
   ]
  },
  {
   "cell_type": "code",
   "execution_count": 17,
   "metadata": {},
   "outputs": [],
   "source": [
    "with open('./singer_id_embs.pkl', 'wb') as handle:\n",
    "    pickle.dump(avg_embs, handle)"
   ]
  },
  {
   "cell_type": "code",
   "execution_count": null,
   "metadata": {},
   "outputs": [],
   "source": []
  }
 ],
 "metadata": {
  "kernelspec": {
   "display_name": "venvautovc",
   "language": "python",
   "name": "venvautovc"
  },
  "language_info": {
   "codemirror_mode": {
    "name": "ipython",
    "version": 3
   },
   "file_extension": ".py",
   "mimetype": "text/x-python",
   "name": "python",
   "nbconvert_exporter": "python",
   "pygments_lexer": "ipython3",
   "version": "3.7.7"
  }
 },
 "nbformat": 4,
 "nbformat_minor": 4
}
