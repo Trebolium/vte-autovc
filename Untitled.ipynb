{
 "cells": [
  {
   "cell_type": "code",
   "execution_count": 2,
   "metadata": {},
   "outputs": [],
   "source": [
    "import os, pdb, pickle, random, argparse, shutil, yaml\n",
    "from solver_encoder import Solver\n",
    "from data_loader import VctkFromMeta, PathSpecDataset, SpecChunksFromPkl\n",
    "from torch.backends import cudnn\n",
    "from torch.utils.tensorboard import SummaryWriter\n",
    "from torch.utils.data import DataLoader, SubsetRandomSampler, ConcatDataset\n",
    "from shutil import copyfile"
   ]
  },
  {
   "cell_type": "code",
   "execution_count": 3,
   "metadata": {},
   "outputs": [],
   "source": [
    "def str2bool(v):\n",
    "    return v.lower() in ('true')\n",
    "\n",
    "def overwrite_dir(directory):\n",
    "    if os.path.exists(directory):\n",
    "        shutil.rmtree(directory)\n",
    "    os.makedirs(directory)\n",
    "\n",
    "def new_song_idx(dataset):\n",
    "    # finds the index for each new song in dataset\n",
    "    new_Song_idxs = []\n",
    "    song_idxs = list(range(255))\n",
    "    for song_idx in song_idxs:\n",
    "        for ex_idx, ex in enumerate(dataset):\n",
    "            if ex[1] == song_idx:\n",
    "                new_Song_idxs.append(ex_idx)\n",
    "                break\n",
    "    return new_Song_idxs"
   ]
  },
  {
   "cell_type": "code",
   "execution_count": 4,
   "metadata": {},
   "outputs": [],
   "source": [
    "config = pickle.load(open('/homes/bdoc3/my_data/autovc_data/autoStc/Vctk16f32bn100iLiveSpkridNoCd/config.pkl','rb'))"
   ]
  },
  {
   "cell_type": "code",
   "execution_count": 5,
   "metadata": {},
   "outputs": [],
   "source": [
    "with open('/homes/bdoc3/my_data/phonDet/spmel_autovc_params_unnormalized/spmel_params.yaml') as File:\n",
    "    spmel_params = yaml.load(File, Loader=yaml.FullLoader)"
   ]
  },
  {
   "cell_type": "code",
   "execution_count": 6,
   "metadata": {},
   "outputs": [
    {
     "name": "stdout",
     "output_type": "stream",
     "text": [
      "Finished loading the dataset...\n"
     ]
    }
   ],
   "source": [
    "c_datasets = ConcatDataset([PathSpecDataset(config, spmel_params), SpecChunksFromPkl(config, spmel_params), VctkFromMeta(config)])"
   ]
  },
  {
   "cell_type": "code",
   "execution_count": 7,
   "metadata": {},
   "outputs": [
    {
     "name": "stdout",
     "output_type": "stream",
     "text": [
      "Finished loading the dataset...\n"
     ]
    }
   ],
   "source": [
    "vocalset = PathSpecDataset(config, spmel_params)\n",
    "vctk = VctkFromMeta(config)\n",
    "medleydb = SpecChunksFromPkl(config, spmel_params)"
   ]
  },
  {
   "cell_type": "code",
   "execution_count": 8,
   "metadata": {},
   "outputs": [
    {
     "data": {
      "text/plain": [
       "(20, 20, 62)"
      ]
     },
     "execution_count": 8,
     "metadata": {},
     "output_type": "execute_result"
    }
   ],
   "source": [
    "len(vocalset), len(vctk), len(medleydb)"
   ]
  },
  {
   "cell_type": "code",
   "execution_count": 57,
   "metadata": {},
   "outputs": [
    {
     "data": {
      "text/plain": [
       "(array([[0.2736816 , 0.23937878, 0.21980977, ..., 0.07680163, 0.07233825,\n",
       "         0.04956221],\n",
       "        [0.29102957, 0.19476737, 0.23252478, ..., 0.05258461, 0.04922265,\n",
       "         0.04291855],\n",
       "        [0.29377773, 0.182412  , 0.22492132, ..., 0.06781181, 0.02996103,\n",
       "         0.05220065],\n",
       "        ...,\n",
       "        [0.3322291 , 0.23569405, 0.13024206, ..., 0.        , 0.        ,\n",
       "         0.        ],\n",
       "        [0.3410429 , 0.26450932, 0.1959782 , ..., 0.        , 0.        ,\n",
       "         0.        ],\n",
       "        [0.33265013, 0.2294334 , 0.1858011 , ..., 0.        , 0.        ,\n",
       "         0.        ]], dtype=float32),\n",
       " (3,\n",
       "  array([ 6.93282634e-02, -1.01436982e-02,  1.21917101e-02,  2.21594591e-02,\n",
       "         -3.41714695e-02, -4.04114053e-02, -4.54880372e-02, -2.06909627e-02,\n",
       "          8.27469453e-02, -5.72406128e-02, -7.61412736e-03,  2.64559500e-02,\n",
       "          3.45057882e-02,  2.50040106e-02, -2.14785747e-02, -7.63055170e-03,\n",
       "         -9.44781303e-02, -6.96726665e-02, -1.35129886e-02,  3.05525362e-02,\n",
       "          2.09923834e-02, -2.14075204e-02,  1.48701668e-01,  2.42711641e-02,\n",
       "          9.46623087e-02, -6.19609058e-02, -4.53179553e-02, -3.43416706e-02,\n",
       "         -1.40791563e-02,  5.82508855e-02,  4.88353893e-02,  5.48112318e-02,\n",
       "         -3.99652049e-02,  3.28298029e-03,  6.39875070e-04,  8.42629522e-02,\n",
       "          9.24306829e-03,  1.48851229e-02, -5.17848209e-02,  5.12772575e-02,\n",
       "          7.31534977e-03,  3.38990577e-02,  5.61777428e-02, -5.51385395e-02,\n",
       "         -3.62390205e-02,  2.54919976e-02, -1.44954948e-02,  2.18365155e-02,\n",
       "         -2.59912219e-02,  4.35634442e-02, -1.56426424e-04, -5.33796139e-02,\n",
       "          6.75067306e-02, -5.31576946e-03,  3.92323732e-02,  1.08052883e-02,\n",
       "         -3.34048234e-02,  8.48329044e-04,  3.38076125e-03, -7.59240165e-02,\n",
       "          2.57712021e-03, -9.05289724e-02, -8.32714885e-02,  2.85036024e-02,\n",
       "          1.01229118e-03,  6.24609515e-02,  6.34575188e-02,  5.16392291e-02,\n",
       "          4.77276072e-02, -5.00029745e-03, -3.68502438e-02, -3.00578587e-02,\n",
       "          6.95632165e-03, -2.59603583e-03,  5.40471589e-03, -1.40702203e-02,\n",
       "         -6.56701475e-02,  3.16839740e-02,  7.46534467e-02, -4.17076088e-02,\n",
       "         -4.98241037e-02,  1.85354836e-02,  1.00153148e-01, -3.96619504e-03,\n",
       "          1.55649751e-01, -2.23899335e-02,  2.50672754e-02,  3.70995067e-02,\n",
       "         -3.96331027e-03, -2.22374611e-02, -1.70364995e-02, -3.99058983e-02,\n",
       "         -6.11671433e-02, -5.05532399e-02,  8.51522386e-03,  7.96725787e-03,\n",
       "         -8.14610571e-02,  2.66015530e-03, -4.21238765e-02, -5.06689958e-02,\n",
       "          1.78130437e-02,  3.76983103e-03, -2.52746902e-02, -1.59598906e-02,\n",
       "         -7.80152231e-02, -9.43804681e-02,  1.92606859e-02, -7.33303428e-02,\n",
       "          7.40616769e-02, -9.41674635e-02,  1.68172345e-02, -3.80087718e-02,\n",
       "         -3.15518305e-02,  7.99274631e-03,  1.46822454e-02, -2.08874457e-02,\n",
       "          5.69179542e-02, -2.55400445e-02, -4.87232432e-02,  1.43109467e-02,\n",
       "          2.95034493e-03,  1.87198240e-02, -1.02214692e-02,  3.56947742e-02,\n",
       "         -5.28579541e-02,  4.05565612e-02, -1.08536586e-01,  6.49183691e-02,\n",
       "         -2.88886726e-02,  1.98895726e-02, -2.13994011e-02, -1.59787922e-03,\n",
       "         -6.66583478e-02, -1.20104635e-02,  1.00133102e-02, -1.80182867e-02,\n",
       "          4.73365821e-02,  6.66527450e-03, -1.78498290e-02,  8.86808522e-03,\n",
       "          8.98219645e-03, -1.17064063e-02, -1.40261892e-02,  1.10120755e-02,\n",
       "          1.50025990e-02,  3.87144610e-02,  2.94488738e-03, -2.85835899e-02,\n",
       "          1.66151975e-03,  5.57687879e-03, -2.78570894e-02, -2.25049797e-02,\n",
       "          1.88084729e-02, -3.89862955e-02, -6.86332360e-02,  2.55511003e-03,\n",
       "         -2.25663427e-02, -1.50338188e-02,  9.07786414e-02, -1.57127492e-02,\n",
       "         -6.48066178e-02, -8.95670950e-02, -4.09416147e-02,  5.24389604e-03,\n",
       "          6.18548226e-03, -9.86524858e-03, -8.66096653e-03, -1.00579798e-01,\n",
       "         -6.29068017e-02, -8.09509903e-02, -1.65565982e-02, -4.38062958e-02,\n",
       "         -2.43592896e-02, -1.34468228e-01,  8.31426866e-03,  3.00953928e-02,\n",
       "          4.61014360e-02, -1.16139487e-03, -3.92164439e-02, -7.31542259e-02,\n",
       "         -1.84792448e-02, -1.00471303e-01, -2.68932874e-03, -1.75595805e-02,\n",
       "          1.17401108e-01, -1.34670902e-02,  2.98740081e-02,  5.30239753e-02,\n",
       "          5.02333157e-02, -1.13654174e-02, -2.98888143e-02, -3.54310647e-02,\n",
       "          2.50520022e-03,  6.65365309e-02,  1.61955524e-02,  2.46660393e-02,\n",
       "         -2.08306052e-02, -1.39415208e-02, -1.35732619e-02, -6.75690547e-02,\n",
       "         -1.92731973e-02,  6.44601896e-05,  2.90354844e-02, -2.76345620e-03,\n",
       "          5.90967610e-02,  7.34279901e-02,  3.79901752e-02, -1.94922946e-02,\n",
       "          2.04176959e-02,  3.89589323e-03, -1.52756069e-02, -4.79619727e-02,\n",
       "         -4.33491394e-02, -5.71169630e-02,  1.15625514e-02,  6.62999004e-02,\n",
       "          1.54316071e-02, -1.10492110e-03, -1.30952448e-02, -1.39528718e-02,\n",
       "          2.81309374e-02, -7.32796490e-02,  6.54137135e-02, -1.32706659e-02,\n",
       "         -4.98511596e-03, -1.35595068e-01,  3.04203983e-02,  2.13011988e-02,\n",
       "         -4.28635366e-02, -1.51704075e-02,  2.05986463e-02,  6.61896402e-03,\n",
       "          3.30011435e-02,  6.24464042e-02,  4.45109643e-02,  4.90311459e-02,\n",
       "          3.70891318e-02,  1.98016409e-02, -9.81236473e-02, -8.42377916e-02,\n",
       "          3.03902626e-02,  6.40226230e-02,  7.31824711e-02,  6.34426903e-03,\n",
       "          3.80880311e-02,  2.81234588e-02,  2.56710555e-02, -1.98541172e-02,\n",
       "         -4.50262763e-02,  9.32853203e-03,  7.30899945e-02,  7.09655648e-03,\n",
       "          9.79513209e-03, -8.76369476e-02,  9.03877709e-03,  4.71587777e-02],\n",
       "        dtype=float32)),\n",
       " 'p360')"
      ]
     },
     "execution_count": 57,
     "metadata": {},
     "output_type": "execute_result"
    }
   ],
   "source": [
    "vctk[3]"
   ]
  },
  {
   "cell_type": "code",
   "execution_count": 10,
   "metadata": {},
   "outputs": [
    {
     "data": {
      "text/plain": [
       "[0,\n",
       " 1,\n",
       " 2,\n",
       " 3,\n",
       " 4,\n",
       " 5,\n",
       " 6,\n",
       " 7,\n",
       " 8,\n",
       " 9,\n",
       " 10,\n",
       " 11,\n",
       " 12,\n",
       " 13,\n",
       " 14,\n",
       " 15,\n",
       " 16,\n",
       " 17,\n",
       " 18,\n",
       " 19,\n",
       " 20,\n",
       " 21,\n",
       " 22,\n",
       " 23,\n",
       " 24,\n",
       " 25,\n",
       " 26,\n",
       " 27,\n",
       " 28,\n",
       " 29,\n",
       " 30,\n",
       " 31,\n",
       " 32,\n",
       " 33,\n",
       " 34,\n",
       " 35,\n",
       " 36,\n",
       " 37,\n",
       " 38,\n",
       " 39,\n",
       " 40,\n",
       " 41,\n",
       " 42,\n",
       " 43,\n",
       " 44,\n",
       " 45,\n",
       " 46,\n",
       " 47,\n",
       " 48,\n",
       " 49,\n",
       " 50,\n",
       " 51,\n",
       " 52,\n",
       " 53,\n",
       " 54,\n",
       " 55,\n",
       " 56,\n",
       " 57,\n",
       " 58,\n",
       " 59,\n",
       " 60,\n",
       " 61,\n",
       " 62,\n",
       " 63,\n",
       " 64,\n",
       " 65,\n",
       " 66,\n",
       " 67,\n",
       " 68,\n",
       " 69,\n",
       " 70,\n",
       " 71,\n",
       " 72,\n",
       " 73,\n",
       " 74,\n",
       " 75,\n",
       " 76,\n",
       " 77,\n",
       " 78,\n",
       " 79,\n",
       " 80,\n",
       " 81,\n",
       " 82,\n",
       " 83,\n",
       " 84,\n",
       " 85,\n",
       " 86,\n",
       " 87,\n",
       " 88,\n",
       " 89,\n",
       " 90,\n",
       " 91,\n",
       " 92,\n",
       " 93,\n",
       " 94,\n",
       " 95,\n",
       " 96,\n",
       " 97,\n",
       " 98,\n",
       " 99,\n",
       " 100,\n",
       " 101]"
      ]
     },
     "execution_count": 10,
     "metadata": {},
     "output_type": "execute_result"
    }
   ],
   "source": [
    "list(range(len(c_datasets)))"
   ]
  },
  {
   "cell_type": "code",
   "execution_count": 54,
   "metadata": {},
   "outputs": [
    {
     "data": {
      "text/plain": [
       "[2, 1, 4]"
      ]
     },
     "execution_count": 54,
     "metadata": {},
     "output_type": "execute_result"
    }
   ],
   "source": [
    "random.seed(1)\n",
    "random.sample(range(10),3)"
   ]
  },
  {
   "cell_type": "code",
   "execution_count": 55,
   "metadata": {},
   "outputs": [
    {
     "data": {
      "text/plain": [
       "[2, 1, 4]"
      ]
     },
     "execution_count": 55,
     "metadata": {},
     "output_type": "execute_result"
    }
   ],
   "source": [
    "random.seed(1)\n",
    "random.sample(range(10),3)"
   ]
  },
  {
   "cell_type": "code",
   "execution_count": 56,
   "metadata": {},
   "outputs": [
    {
     "data": {
      "text/plain": [
       "[1, 7, 8]"
      ]
     },
     "execution_count": 56,
     "metadata": {},
     "output_type": "execute_result"
    }
   ],
   "source": [
    "random.sample(range(10),3)"
   ]
  },
  {
   "cell_type": "code",
   "execution_count": null,
   "metadata": {},
   "outputs": [],
   "source": []
  }
 ],
 "metadata": {
  "kernelspec": {
   "display_name": "Python 3",
   "language": "python",
   "name": "python3"
  },
  "language_info": {
   "codemirror_mode": {
    "name": "ipython",
    "version": 3
   },
   "file_extension": ".py",
   "mimetype": "text/x-python",
   "name": "python",
   "nbconvert_exporter": "python",
   "pygments_lexer": "ipython3",
   "version": "3.7.7"
  }
 },
 "nbformat": 4,
 "nbformat_minor": 4
}
