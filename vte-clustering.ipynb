{
 "cells": [
  {
   "cell_type": "code",
   "execution_count": 2,
   "metadata": {},
   "outputs": [],
   "source": [
    "# load modules\n",
    "import pickle, pdb, os, random, yaml, random, math, torch, math\n",
    "from collections import OrderedDict\n",
    "import numpy as np\n",
    "import torch.nn as nn\n",
    "from data_loader import get_loader, pathSpecDataset\n",
    "from torch.utils.data import DataLoader\n",
    "from vte_model import Vt_Embedder\n",
    "import matplotlib.pyplot as plt\n",
    "from sklearn.cluster import KMeans, AgglomerativeClustering\n",
    "from sklearn.metrics import adjusted_rand_score, silhouette_score\n",
    "import pandas as pd\n",
    "import seaborn as sns"
   ]
  },
  {
   "cell_type": "code",
   "execution_count": 3,
   "metadata": {},
   "outputs": [
    {
     "data": {
      "text/plain": [
       "Namespace(batch_size=128, chunk_num=6, chunk_seconds=0.5, ckpt_freq=100, config_file='', cuda=True, data_dir='/homes/bdoc3/my_data/phonDet/spmel_autovc_params_unnormalized', dropout=0.0, epochs=100, file_name='newStandardAutovcSpmelParamsUnnormLatent64Out256', is_blstm=True, iteration=1, load_ckpt='', lr=0.0001, lstm_num=2, model='choi_k2c2', n_mels=96, no_cuda=False, reg=0, seed=1, short=False, spmel_dir='/homes/bdoc3/my_data/phonDet/spmel_autovc_params_unnormalized', test_list='m2_ m10_ m3_ f2_ f4_', use_attention=False, which_cuda=0)"
      ]
     },
     "execution_count": 3,
     "metadata": {},
     "output_type": "execute_result"
    }
   ],
   "source": [
    "\n",
    "results_dir = '/homes/bdoc3/phonDet/results'\n",
    "spmel_path = '/homes/bdoc3/my_data/phonDet/spmel_autovc_params_unnormalized'\n",
    "model_name = 'newStandardAutovcSpmelParamsUnnormLatent64Out256'\n",
    "model_path = os.path.join(results_dir, model_name)\n",
    "config = pickle.load(open(model_path +'/config_params.pkl','rb'))\n",
    "config.spmel_dir = config.data_dir\n",
    "\n",
    "with open(spmel_path +'/spmel_params.yaml') as File:\n",
    "    spmel_params = yaml.load(File, Loader=yaml.FullLoader)\n",
    "    \n",
    "emb_ckpt = model_path +'/best_epoch_checkpoint.pth.tar'\n",
    "\n",
    "device = torch.device(f'cuda:{config.which_cuda}' if torch.cuda.is_available() else 'cpu')\n",
    "\n",
    "config"
   ]
  },
  {
   "cell_type": "code",
   "execution_count": 4,
   "metadata": {},
   "outputs": [],
   "source": [
    "# run model\n",
    "vte =  Vt_Embedder(config, spmel_params)\n",
    "for param in vte.parameters():\n",
    "    param.requires_grad = False\n",
    "vte_optimizer = torch.optim.Adam(vte.parameters(), 0.0001)\n",
    "vte_checkpoint = torch.load(emb_ckpt)\n",
    "new_state_dict = OrderedDict()\n",
    "for i, (key, val) in enumerate(vte_checkpoint['model_state_dict'].items()):\n",
    "#     if key.startswith('class_layer'):\n",
    "#         continue\n",
    "    new_state_dict[key] = val\n",
    "vte.load_state_dict(new_state_dict)\n",
    "\n",
    "for state in vte_optimizer.state.values():\n",
    "    for k, v in state.items():\n",
    "        if isinstance(v, torch.Tensor):\n",
    "            state[k] = v.cuda(which_cuda)\n",
    "\n",
    "vte.to(device)\n",
    "vte.eval()\n",
    "\n",
    "# prep dataset\n",
    "vocalSet = pathSpecDataset(config, spmel_params)\n",
    "vocalSet_loader = DataLoader(vocalSet, batch_size=config.batch_size, shuffle=True, drop_last=False)"
   ]
  },
  {
   "cell_type": "code",
   "execution_count": 13,
   "metadata": {},
   "outputs": [],
   "source": [
    "# infer embeddings\n",
    "example_data = []\n",
    "for i in range(5):\n",
    "    try:\n",
    "        x_real, style_idx, singer_idx = next(data_iter)\n",
    "    except:\n",
    "        data_iter = iter(vocalSet_loader)\n",
    "        x_real, style_idx, singer_idx = next(data_iter)\n",
    "    x_real = x_real.to(device)\n",
    "\n",
    "    x_real_chunked = x_real.view(x_real.shape[0]*config.chunk_num, x_real.shape[1]//config.chunk_num, -1)\n",
    "    pred_style_idx, all_tensors = vte(x_real_chunked)\n",
    "    _, predicted = torch.max(pred_style_idx.data, 1)\n",
    "    for j in range(len(x_real)):\n",
    "        # last entry in example_data is a list of all embeddings for that example\n",
    "        example_data.append((x_real[j], style_idx[j], singer_idx[j], predicted[j], [embs[j] for embs in all_tensors]))"
   ]
  },
  {
   "cell_type": "code",
   "execution_count": 19,
   "metadata": {},
   "outputs": [
    {
     "name": "stdout",
     "output_type": "stream",
     "text": [
      "595 45\n"
     ]
    }
   ],
   "source": [
    "style_names = ['belt','lip_trill','straight','vocal_fry','vibrato','breathy']\n",
    "num_class = len(style_names)\n",
    "embs, preds, g_truths = [], [], []\n",
    "for i in range(len(example_data)):\n",
    "    embs.append(example_data[i][-1][-1].detach().cpu().numpy())\n",
    "    g_truths.append(example_data[i][1].detach().cpu().numpy())\n",
    "    preds.append(example_data[i][3].detach().cpu().numpy())\n",
    "\n",
    "list_of_embs = [[] for i in range(num_class)]\n",
    "wrong = correct = 0\n",
    "for i in range(len(example_data)):\n",
    "    if preds[i] == g_truths[i]:\n",
    "        correct += 1\n",
    "        list_of_embs[preds[i]].append(embs[i])\n",
    "    else: wrong += 1\n",
    "print(correct, wrong)"
   ]
  },
  {
   "cell_type": "code",
   "execution_count": 35,
   "metadata": {},
   "outputs": [
    {
     "data": {
      "image/png": "[encoded data removed]",
      "text/plain": [
       "<Figure size 432x288 with 1 Axes>"
      ]
     },
     "metadata": {
      "needs_background": "light"
     },
     "output_type": "display_data"
    },
    {
     "data": {
      "image/png": "[encoded data removed]",
      "text/plain": [
       "<Figure size 432x288 with 1 Axes>"
      ]
     },
     "metadata": {
      "needs_background": "light"
     },
     "output_type": "display_data"
    },
    {
     "data": {
      "image/png": "[encoded data removed]",
      "text/plain": [
       "<Figure size 432x288 with 1 Axes>"
      ]
     },
     "metadata": {
      "needs_background": "light"
     },
     "output_type": "display_data"
    },
    {
     "data": {
      "image/png": "[encoded data removed]",
      "text/plain": [
       "<Figure size 432x288 with 1 Axes>"
      ]
     },
     "metadata": {
      "needs_background": "light"
     },
     "output_type": "display_data"
    },
    {
     "data": {
      "image/png": "[encoded data removed]",
      "text/plain": [
       "<Figure size 432x288 with 1 Axes>"
      ]
     },
     "metadata": {
      "needs_background": "light"
     },
     "output_type": "display_data"
    },
    {
     "data": {
      "image/png": "[encoded data removed]",
      "text/plain": [
       "<Figure size 432x288 with 1 Axes>"
      ]
     },
     "metadata": {
      "needs_background": "light"
     },
     "output_type": "display_data"
    }
   ],
   "source": [
    "# average, save, print embs\n",
    "\n",
    "def tensor_to_matrix(array):\n",
    "    sqr = int(math.sqrt(array.shape[0]))\n",
    "    embs_mat = array.reshape((sqr,sqr))\n",
    "    return embs_mat\n",
    "\n",
    "avg_emb_arr = None\n",
    "for i in range(num_class):\n",
    "    avg_emb = np.mean(np.asarray(list_of_embs[i]), axis=0)\n",
    "    try:\n",
    "        avg_emb_arr = np.vstack((avg_emb_arr, avg_emb))\n",
    "    except:\n",
    "        avg_emb_arr = avg_emb\n",
    "\n",
    "# save avg_embs for future use\n",
    "np.save(model_path +'/averaged_embs', avg_emb_arr)\n",
    "\n",
    "for avg_emb in avg_emb_arr:\n",
    "    sqr_avg_emb = tensor_to_matrix(avg_emb)\n",
    "    plt.figure()\n",
    "    plt.imshow(sqr_avg_emb)"
   ]
  },
  {
   "cell_type": "code",
   "execution_count": 20,
   "metadata": {},
   "outputs": [
    {
     "data": {
      "text/plain": [
       "[<matplotlib.lines.Line2D at 0x7fbf53f031d0>]"
      ]
     },
     "execution_count": 20,
     "metadata": {},
     "output_type": "execute_result"
    },
    {
     "data": {
      "image/png": "[encoded data removed]",
      "text/plain": [
       "<Figure size 432x288 with 1 Axes>"
      ]
     },
     "metadata": {
      "needs_background": "light"
     },
     "output_type": "display_data"
    }
   ],
   "source": [
    "from sklearn.cluster import KMeans\n",
    "\n",
    "# set up k_means clustering\n",
    "k_range = range(1,11)\n",
    "embs_array = np.asarray(embs)\n",
    "\n",
    "sum_squared_error = []\n",
    "for k_dim in k_range:    \n",
    "    km = KMeans(n_clusters=k_dim)\n",
    "    km.fit_predict(embs_array)\n",
    "#    print(km.cluster_centers_.shape, km.cluster_centers_) \n",
    "    sum_squared_error.append(km.inertia_)\n",
    "plt.plot(k_range, sum_squared_error)"
   ]
  },
  {
   "cell_type": "code",
   "execution_count": 21,
   "metadata": {},
   "outputs": [
    {
     "data": {
      "text/plain": [
       "0.6045818"
      ]
     },
     "execution_count": 21,
     "metadata": {},
     "output_type": "execute_result"
    }
   ],
   "source": [
    "hc = AgglomerativeClustering(n_clusters=6, affinity = 'euclidean', linkage='ward')\n",
    "hc_clustering = hc.fit_predict(embs)\n",
    "hc_sil_score = silhouette_score(embs, hc_clustering, metric='euclidean')\n",
    "hc_sil_score\n",
    "# kmeans_cluster_accuracy = adjusted_rand_score(kmeans_cluster_list, rearranged_class_list)"
   ]
  },
  {
   "cell_type": "code",
   "execution_count": 36,
   "metadata": {},
   "outputs": [
    {
     "data": {
      "text/plain": [
       "tensor([0, 4, 1, 5, 4, 5, 0, 3, 0, 5, 4, 1, 0, 1, 2, 5, 0, 4, 4, 5, 4, 4, 5, 4,\n",
       "        2, 3, 4, 5, 3, 4, 1, 1, 3, 1, 4, 1, 5, 5, 2, 2, 3, 3, 1, 4, 3, 0, 4, 1,\n",
       "        4, 0, 1, 5, 4, 4, 1, 4, 3, 1, 0, 4, 0, 3, 0, 2, 1, 5, 2, 0, 1, 5, 3, 4,\n",
       "        1, 4, 0, 5, 2, 0, 4, 2, 1, 3, 0, 3, 3, 4, 0, 0, 2, 2, 1, 5, 1, 2, 1, 5,\n",
       "        5, 2, 2, 2, 0, 3, 2, 1, 3, 4, 0, 3, 4, 3, 4, 5, 1, 2, 2, 0, 1, 2, 1, 0,\n",
       "        4, 0, 4, 2, 1, 4, 0, 3])"
      ]
     },
     "execution_count": 36,
     "metadata": {},
     "output_type": "execute_result"
    }
   ],
   "source": [
    "style_idx"
   ]
  },
  {
   "cell_type": "code",
   "execution_count": 40,
   "metadata": {},
   "outputs": [
    {
     "name": "stdout",
     "output_type": "stream",
     "text": [
      "0 0.053082224\n",
      "1 1.0168594\n",
      "2 0.0057163597\n",
      "3 0.013125768\n",
      "4 1.7218978\n",
      "5 0.012515484\n"
     ]
    }
   ],
   "source": [
    "qwe = avg_emb_arr[style_idx]\n",
    "for i in range(len(avg_emb_arr)):\n",
    "    print(i, avg_emb_arr[i][0])"
   ]
  },
  {
   "cell_type": "code",
   "execution_count": 42,
   "metadata": {},
   "outputs": [
    {
     "name": "stdout",
     "output_type": "stream",
     "text": [
      "0.053082224\n",
      "1.7218978\n",
      "1.0168594\n",
      "0.012515484\n",
      "1.7218978\n",
      "0.012515484\n",
      "0.053082224\n",
      "0.013125768\n",
      "0.053082224\n",
      "0.012515484\n",
      "1.7218978\n",
      "1.0168594\n",
      "0.053082224\n",
      "1.0168594\n",
      "0.0057163597\n",
      "0.012515484\n",
      "0.053082224\n",
      "1.7218978\n",
      "1.7218978\n",
      "0.012515484\n",
      "1.7218978\n",
      "1.7218978\n",
      "0.012515484\n",
      "1.7218978\n",
      "0.0057163597\n",
      "0.013125768\n",
      "1.7218978\n",
      "0.012515484\n",
      "0.013125768\n",
      "1.7218978\n",
      "1.0168594\n",
      "1.0168594\n",
      "0.013125768\n",
      "1.0168594\n",
      "1.7218978\n",
      "1.0168594\n",
      "0.012515484\n",
      "0.012515484\n",
      "0.0057163597\n",
      "0.0057163597\n",
      "0.013125768\n",
      "0.013125768\n",
      "1.0168594\n",
      "1.7218978\n",
      "0.013125768\n",
      "0.053082224\n",
      "1.7218978\n",
      "1.0168594\n",
      "1.7218978\n",
      "0.053082224\n",
      "1.0168594\n",
      "0.012515484\n",
      "1.7218978\n",
      "1.7218978\n",
      "1.0168594\n",
      "1.7218978\n",
      "0.013125768\n",
      "1.0168594\n",
      "0.053082224\n",
      "1.7218978\n",
      "0.053082224\n",
      "0.013125768\n",
      "0.053082224\n",
      "0.0057163597\n",
      "1.0168594\n",
      "0.012515484\n",
      "0.0057163597\n",
      "0.053082224\n",
      "1.0168594\n",
      "0.012515484\n",
      "0.013125768\n",
      "1.7218978\n",
      "1.0168594\n",
      "1.7218978\n",
      "0.053082224\n",
      "0.012515484\n",
      "0.0057163597\n",
      "0.053082224\n",
      "1.7218978\n",
      "0.0057163597\n",
      "1.0168594\n",
      "0.013125768\n",
      "0.053082224\n",
      "0.013125768\n",
      "0.013125768\n",
      "1.7218978\n",
      "0.053082224\n",
      "0.053082224\n",
      "0.0057163597\n",
      "0.0057163597\n",
      "1.0168594\n",
      "0.012515484\n",
      "1.0168594\n",
      "0.0057163597\n",
      "1.0168594\n",
      "0.012515484\n",
      "0.012515484\n",
      "0.0057163597\n",
      "0.0057163597\n",
      "0.0057163597\n",
      "0.053082224\n",
      "0.013125768\n",
      "0.0057163597\n",
      "1.0168594\n",
      "0.013125768\n",
      "1.7218978\n",
      "0.053082224\n",
      "0.013125768\n",
      "1.7218978\n",
      "0.013125768\n",
      "1.7218978\n",
      "0.012515484\n",
      "1.0168594\n",
      "0.0057163597\n",
      "0.0057163597\n",
      "0.053082224\n",
      "1.0168594\n",
      "0.0057163597\n",
      "1.0168594\n",
      "0.053082224\n",
      "1.7218978\n",
      "0.053082224\n",
      "1.7218978\n",
      "0.0057163597\n",
      "1.0168594\n",
      "1.7218978\n",
      "0.053082224\n",
      "0.013125768\n"
     ]
    }
   ],
   "source": [
    "for i in qwe:\n",
    "    print(i[0])"
   ]
  },
  {
   "cell_type": "code",
   "execution_count": null,
   "metadata": {},
   "outputs": [],
   "source": []
  }
 ],
 "metadata": {
  "kernelspec": {
   "display_name": "venvautovc",
   "language": "python",
   "name": "venvautovc"
  },
  "language_info": {
   "codemirror_mode": {
    "name": "ipython",
    "version": 3
   },
   "file_extension": ".py",
   "mimetype": "text/x-python",
   "name": "python",
   "nbconvert_exporter": "python",
   "pygments_lexer": "ipython3",
   "version": "3.7.7"
  }
 },
 "nbformat": 4,
 "nbformat_minor": 4
}
